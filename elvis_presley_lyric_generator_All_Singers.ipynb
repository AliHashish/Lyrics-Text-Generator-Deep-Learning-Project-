{
 "cells": [
  {
   "cell_type": "markdown",
   "metadata": {
    "_cell_guid": "b1076dfc-b9ad-4769-8c92-a6c4dae69d19",
    "_uuid": "8f2839f25d086af736a60e9eeb907d3b93b6e0e5"
   },
   "source": [
    "# Import Libraries"
   ]
  },
  {
   "cell_type": "code",
   "execution_count": 1,
   "metadata": {
    "execution": {
     "iopub.execute_input": "2022-01-10T17:42:25.003204Z",
     "iopub.status.busy": "2022-01-10T17:42:25.002042Z",
     "iopub.status.idle": "2022-01-10T17:42:29.926595Z",
     "shell.execute_reply": "2022-01-10T17:42:29.925827Z",
     "shell.execute_reply.started": "2022-01-10T17:42:25.003030Z"
    }
   },
   "outputs": [],
   "source": [
    "import pandas as pd\n",
    "import numpy as np\n",
    "import seaborn as sns\n",
    "import matplotlib.pyplot as plt\n",
    "from wordcloud import WordCloud, STOPWORDS, ImageColorGenerator\n",
    "import string, os \n",
    "import tensorflow as tf\n",
    "\n",
    "# keras module for building LSTM \n",
    "from keras.preprocessing.sequence import pad_sequences\n",
    "from tensorflow.keras.layers import Embedding, Dropout, LSTM, Dense, Bidirectional \n",
    "from keras.preprocessing.text import Tokenizer\n",
    "from keras.callbacks import EarlyStopping\n",
    "from keras.models import Sequential\n",
    "\n",
    "import matplotlib.pyplot as plt\n",
    "import seaborn as sns\n",
    "import matplotlib.pyplot as plt"
   ]
  },
  {
   "cell_type": "markdown",
   "metadata": {},
   "source": [
    "# Reading Data"
   ]
  },
  {
   "cell_type": "code",
   "execution_count": 2,
   "metadata": {
    "execution": {
     "iopub.execute_input": "2022-01-10T17:42:29.929774Z",
     "iopub.status.busy": "2022-01-10T17:42:29.929240Z",
     "iopub.status.idle": "2022-01-10T17:42:36.078206Z",
     "shell.execute_reply": "2022-01-10T17:42:36.077487Z",
     "shell.execute_reply.started": "2022-01-10T17:42:29.929733Z"
    }
   },
   "outputs": [
    {
     "data": {
      "text/plain": [
       "(800, 2)"
      ]
     },
     "execution_count": 2,
     "metadata": {},
     "output_type": "execute_result"
    }
   ],
   "source": [
    "# csv file\n",
    "df = pd.read_csv('../input/scrapped-lyrics-from-6-genres/lyrics-data.csv')\n",
    "\n",
    "# As the model takes a lot of time to train using the whole dataset\n",
    "# We will instead use only a small portion of it.\n",
    "# Training on English songs only\n",
    "df.drop(['ALink','SName','SLink'],axis=1,inplace=True)\n",
    "df = df[df['Idiom']=='ENGLISH']\n",
    "df = df[:800]\n",
    "df.shape"
   ]
  },
  {
   "cell_type": "markdown",
   "metadata": {},
   "source": [
    "# Data Preprocessing"
   ]
  },
  {
   "cell_type": "code",
   "execution_count": 3,
   "metadata": {
    "execution": {
     "iopub.execute_input": "2022-01-10T17:42:36.079748Z",
     "iopub.status.busy": "2022-01-10T17:42:36.079476Z",
     "iopub.status.idle": "2022-01-10T17:42:36.325554Z",
     "shell.execute_reply": "2022-01-10T17:42:36.324734Z",
     "shell.execute_reply.started": "2022-01-10T17:42:36.079712Z"
    }
   },
   "outputs": [],
   "source": [
    "# Tokenization\n",
    "tokenizer = Tokenizer()\n",
    "# Used to preprocess the text, by removing the comma and\n",
    "# other punctuations for example. We also removed numbers\n",
    "# It also splits the sentences to words, and turns all words\n",
    "# into lower case\n",
    "\n",
    "tokenizer.fit_on_texts(df['Lyric'].astype(str).str.lower())\n",
    "# Applying the tokenizer\n",
    "\n",
    "total_words = len(tokenizer.word_index)+1\n",
    "# We add one to the index, as index starts from zero\n",
    "\n",
    "tokenized_sentences = tokenizer.texts_to_sequences(df['Lyric'].astype(str))\n",
    "# Turns the words into integer type by classifying them according to word dictionary.\n",
    "#tokenized_sentences[0]\n",
    "# Checking the first element, to understand what happened"
   ]
  },
  {
   "cell_type": "code",
   "execution_count": 4,
   "metadata": {
    "execution": {
     "iopub.execute_input": "2022-01-10T17:42:36.327977Z",
     "iopub.status.busy": "2022-01-10T17:42:36.327604Z",
     "iopub.status.idle": "2022-01-10T17:42:43.801447Z",
     "shell.execute_reply": "2022-01-10T17:42:43.800569Z",
     "shell.execute_reply.started": "2022-01-10T17:42:36.327934Z"
    }
   },
   "outputs": [],
   "source": [
    "# Slash sequences into n gram sequence\n",
    "input_sequences = list()\n",
    "for i in tokenized_sentences:\n",
    "    for t in range(1, len(i)):\n",
    "        n_gram_sequence = i[:t+1]\n",
    "        input_sequences.append(n_gram_sequence)\n",
    "# Having reached this point, input_sequences contains array of lists of words, starting from\n",
    "# a list containg 2 words, then we append a third word to them, then another word, and so on.\n",
    "# This causes a problem, as the length of the lists are not equal, so we pad them by adding zeros\n",
    "# at the beginnig, till they are all of the same length (the maximum length)\n",
    "        \n",
    "# Pre padding\n",
    "max_sequence_len = max([len(x) for x in input_sequences]) \n",
    "# Gets the length of the longest list in the \n",
    "# array of lists\n",
    "input_sequences = np.array(pad_sequences(input_sequences, maxlen=max_sequence_len, padding='pre'))"
   ]
  },
  {
   "cell_type": "code",
   "execution_count": 5,
   "metadata": {
    "execution": {
     "iopub.execute_input": "2022-01-10T17:42:43.803767Z",
     "iopub.status.busy": "2022-01-10T17:42:43.803553Z",
     "iopub.status.idle": "2022-01-10T17:42:44.213135Z",
     "shell.execute_reply": "2022-01-10T17:42:44.212103Z",
     "shell.execute_reply.started": "2022-01-10T17:42:43.803742Z"
    }
   },
   "outputs": [],
   "source": [
    "# Dividing the data into X, y -----> the training set, and the labels to be predicted\n",
    "X, labels = input_sequences[:,:-1],input_sequences[:,-1]\n",
    "# Takes all elemnts in each row, except the last element, and places them in X\n",
    "# while labels takes the last element (the element which we should predict)\n",
    "\n",
    "y = tf.keras.utils.to_categorical(labels, num_classes=total_words) # One hot encoding\n",
    "# number of classes is now equal to the number of unique words in the song lyrics"
   ]
  },
  {
   "cell_type": "markdown",
   "metadata": {},
   "source": [
    "# Model"
   ]
  },
  {
   "cell_type": "code",
   "execution_count": 6,
   "metadata": {
    "execution": {
     "iopub.execute_input": "2022-01-10T17:42:44.215012Z",
     "iopub.status.busy": "2022-01-10T17:42:44.214727Z",
     "iopub.status.idle": "2022-01-10T17:42:46.580819Z",
     "shell.execute_reply": "2022-01-10T17:42:46.580170Z",
     "shell.execute_reply.started": "2022-01-10T17:42:44.214973Z"
    }
   },
   "outputs": [
    {
     "name": "stderr",
     "output_type": "stream",
     "text": [
      "2022-01-10 17:42:44.293347: I tensorflow/stream_executor/cuda/cuda_gpu_executor.cc:937] successful NUMA node read from SysFS had negative value (-1), but there must be at least one NUMA node, so returning NUMA node zero\n",
      "2022-01-10 17:42:44.381919: I tensorflow/stream_executor/cuda/cuda_gpu_executor.cc:937] successful NUMA node read from SysFS had negative value (-1), but there must be at least one NUMA node, so returning NUMA node zero\n",
      "2022-01-10 17:42:44.382783: I tensorflow/stream_executor/cuda/cuda_gpu_executor.cc:937] successful NUMA node read from SysFS had negative value (-1), but there must be at least one NUMA node, so returning NUMA node zero\n",
      "2022-01-10 17:42:44.384565: I tensorflow/core/platform/cpu_feature_guard.cc:142] This TensorFlow binary is optimized with oneAPI Deep Neural Network Library (oneDNN) to use the following CPU instructions in performance-critical operations:  AVX2 AVX512F FMA\n",
      "To enable them in other operations, rebuild TensorFlow with the appropriate compiler flags.\n",
      "2022-01-10 17:42:44.385682: I tensorflow/stream_executor/cuda/cuda_gpu_executor.cc:937] successful NUMA node read from SysFS had negative value (-1), but there must be at least one NUMA node, so returning NUMA node zero\n",
      "2022-01-10 17:42:44.386386: I tensorflow/stream_executor/cuda/cuda_gpu_executor.cc:937] successful NUMA node read from SysFS had negative value (-1), but there must be at least one NUMA node, so returning NUMA node zero\n",
      "2022-01-10 17:42:44.386996: I tensorflow/stream_executor/cuda/cuda_gpu_executor.cc:937] successful NUMA node read from SysFS had negative value (-1), but there must be at least one NUMA node, so returning NUMA node zero\n",
      "2022-01-10 17:42:46.169006: I tensorflow/stream_executor/cuda/cuda_gpu_executor.cc:937] successful NUMA node read from SysFS had negative value (-1), but there must be at least one NUMA node, so returning NUMA node zero\n",
      "2022-01-10 17:42:46.170101: I tensorflow/stream_executor/cuda/cuda_gpu_executor.cc:937] successful NUMA node read from SysFS had negative value (-1), but there must be at least one NUMA node, so returning NUMA node zero\n",
      "2022-01-10 17:42:46.171038: I tensorflow/stream_executor/cuda/cuda_gpu_executor.cc:937] successful NUMA node read from SysFS had negative value (-1), but there must be at least one NUMA node, so returning NUMA node zero\n",
      "2022-01-10 17:42:46.171911: I tensorflow/core/common_runtime/gpu/gpu_device.cc:1510] Created device /job:localhost/replica:0/task:0/device:GPU:0 with 15403 MB memory:  -> device: 0, name: Tesla P100-PCIE-16GB, pci bus id: 0000:00:04.0, compute capability: 6.0\n"
     ]
    }
   ],
   "source": [
    "# creating model\n",
    "model = Sequential()"
   ]
  },
  {
   "cell_type": "code",
   "execution_count": 7,
   "metadata": {
    "execution": {
     "iopub.execute_input": "2022-01-10T17:42:46.585325Z",
     "iopub.status.busy": "2022-01-10T17:42:46.585046Z",
     "iopub.status.idle": "2022-01-10T17:42:47.120119Z",
     "shell.execute_reply": "2022-01-10T17:42:47.119367Z",
     "shell.execute_reply.started": "2022-01-10T17:42:46.585291Z"
    }
   },
   "outputs": [],
   "source": [
    "#model = Sequential()\n",
    "model.add(Embedding(total_words, 40, input_length=max_sequence_len-1))\n",
    "# dimension of input: total_words, the number of unique words we have\n",
    "# 40: the desired dimension of the output\n",
    "# input_length: the sequence length is all the words except the last one (the one\n",
    "# we will predict)\n",
    "model.add(Bidirectional(LSTM(250))) # 250 is the average number of words in a song\n",
    "# So our cycle is the average length of a song\n",
    "# We used LSTM instead of simple RNN as simple RNN faces a vanishing gradient\n",
    "# problem, also, we need to remember the previous words, to predict the next words.\n",
    "\n",
    "model.add(Dropout(0.1)) # To overcome overfitting\n",
    "model.add(Dense(total_words, activation='softmax'))"
   ]
  },
  {
   "cell_type": "code",
   "execution_count": 8,
   "metadata": {
    "execution": {
     "iopub.execute_input": "2022-01-10T17:42:47.121763Z",
     "iopub.status.busy": "2022-01-10T17:42:47.121452Z",
     "iopub.status.idle": "2022-01-10T17:42:47.133692Z",
     "shell.execute_reply": "2022-01-10T17:42:47.132953Z",
     "shell.execute_reply.started": "2022-01-10T17:42:47.121719Z"
    }
   },
   "outputs": [
    {
     "name": "stdout",
     "output_type": "stream",
     "text": [
      "Model: \"sequential\"\n",
      "_________________________________________________________________\n",
      "Layer (type)                 Output Shape              Param #   \n",
      "=================================================================\n",
      "embedding (Embedding)        (None, 655, 40)           362040    \n",
      "_________________________________________________________________\n",
      "bidirectional (Bidirectional (None, 500)               582000    \n",
      "_________________________________________________________________\n",
      "dropout (Dropout)            (None, 500)               0         \n",
      "_________________________________________________________________\n",
      "dense (Dense)                (None, 9051)              4534551   \n",
      "=================================================================\n",
      "Total params: 5,478,591\n",
      "Trainable params: 5,478,591\n",
      "Non-trainable params: 0\n",
      "_________________________________________________________________\n"
     ]
    }
   ],
   "source": [
    "model.summary()"
   ]
  },
  {
   "cell_type": "code",
   "execution_count": 9,
   "metadata": {
    "execution": {
     "iopub.execute_input": "2022-01-10T17:42:47.136663Z",
     "iopub.status.busy": "2022-01-10T17:42:47.136099Z",
     "iopub.status.idle": "2022-01-10T22:26:59.718372Z",
     "shell.execute_reply": "2022-01-10T22:26:59.717621Z",
     "shell.execute_reply.started": "2022-01-10T17:42:47.136631Z"
    }
   },
   "outputs": [
    {
     "name": "stderr",
     "output_type": "stream",
     "text": [
      "2022-01-10 17:42:47.517385: W tensorflow/core/framework/cpu_allocator_impl.cc:80] Allocation of 4982104848 exceeds 10% of free system memory.\n",
      "2022-01-10 17:42:53.381856: W tensorflow/core/framework/cpu_allocator_impl.cc:80] Allocation of 4982104848 exceeds 10% of free system memory.\n",
      "2022-01-10 17:42:57.016402: I tensorflow/compiler/mlir/mlir_graph_optimization_pass.cc:185] None of the MLIR Optimization Passes are enabled (registered 2)\n"
     ]
    },
    {
     "name": "stdout",
     "output_type": "stream",
     "text": [
      "Epoch 1/30\n"
     ]
    },
    {
     "name": "stderr",
     "output_type": "stream",
     "text": [
      "2022-01-10 17:43:00.074843: I tensorflow/stream_executor/cuda/cuda_dnn.cc:369] Loaded cuDNN version 8005\n"
     ]
    },
    {
     "name": "stdout",
     "output_type": "stream",
     "text": [
      "4301/4301 [==============================] - ETA: 0s - loss: 6.0677 - accuracy: 0.0681"
     ]
    },
    {
     "name": "stderr",
     "output_type": "stream",
     "text": [
      "2022-01-10 17:51:19.801572: W tensorflow/core/framework/cpu_allocator_impl.cc:80] Allocation of 2135203308 exceeds 10% of free system memory.\n",
      "2022-01-10 17:51:22.326349: W tensorflow/core/framework/cpu_allocator_impl.cc:80] Allocation of 2135203308 exceeds 10% of free system memory.\n"
     ]
    },
    {
     "name": "stdout",
     "output_type": "stream",
     "text": [
      "4301/4301 [==============================] - 579s 134ms/step - loss: 6.0677 - accuracy: 0.0681 - val_loss: 6.1098 - val_accuracy: 0.0755\n",
      "Epoch 2/30\n",
      "4301/4301 [==============================] - 567s 132ms/step - loss: 5.2133 - accuracy: 0.1325 - val_loss: 6.1515 - val_accuracy: 0.0906\n",
      "Epoch 3/30\n",
      "4301/4301 [==============================] - 567s 132ms/step - loss: 4.5042 - accuracy: 0.2038 - val_loss: 6.3351 - val_accuracy: 0.0875\n",
      "Epoch 4/30\n",
      "4301/4301 [==============================] - 568s 132ms/step - loss: 3.9127 - accuracy: 0.2763 - val_loss: 6.4592 - val_accuracy: 0.0869\n",
      "Epoch 5/30\n",
      "4301/4301 [==============================] - 568s 132ms/step - loss: 3.4391 - accuracy: 0.3404 - val_loss: 6.6481 - val_accuracy: 0.0845\n",
      "Epoch 6/30\n",
      "4301/4301 [==============================] - 569s 132ms/step - loss: 3.0615 - accuracy: 0.3955 - val_loss: 6.7616 - val_accuracy: 0.0835\n",
      "Epoch 7/30\n",
      "4301/4301 [==============================] - 570s 133ms/step - loss: 2.7614 - accuracy: 0.4415 - val_loss: 6.9372 - val_accuracy: 0.0808\n",
      "Epoch 8/30\n",
      "4301/4301 [==============================] - 573s 133ms/step - loss: 2.5207 - accuracy: 0.4802 - val_loss: 7.0389 - val_accuracy: 0.0797\n",
      "Epoch 9/30\n",
      "4301/4301 [==============================] - 572s 133ms/step - loss: 2.3192 - accuracy: 0.5128 - val_loss: 7.1961 - val_accuracy: 0.0809\n",
      "Epoch 10/30\n",
      "4301/4301 [==============================] - 571s 133ms/step - loss: 2.1546 - accuracy: 0.5417 - val_loss: 7.2702 - val_accuracy: 0.0787\n",
      "Epoch 11/30\n",
      "4301/4301 [==============================] - 571s 133ms/step - loss: 2.0179 - accuracy: 0.5660 - val_loss: 7.4138 - val_accuracy: 0.0758\n",
      "Epoch 12/30\n",
      "4301/4301 [==============================] - 567s 132ms/step - loss: 1.8996 - accuracy: 0.5860 - val_loss: 7.5088 - val_accuracy: 0.0776\n",
      "Epoch 13/30\n",
      "4301/4301 [==============================] - 563s 131ms/step - loss: 1.8046 - accuracy: 0.6027 - val_loss: 7.5757 - val_accuracy: 0.0769\n",
      "Epoch 14/30\n",
      "4301/4301 [==============================] - 564s 131ms/step - loss: 1.7179 - accuracy: 0.6174 - val_loss: 7.7234 - val_accuracy: 0.0776\n",
      "Epoch 15/30\n",
      "4301/4301 [==============================] - 564s 131ms/step - loss: 1.6505 - accuracy: 0.6288 - val_loss: 7.7749 - val_accuracy: 0.0791\n",
      "Epoch 16/30\n",
      "4301/4301 [==============================] - 564s 131ms/step - loss: 1.5922 - accuracy: 0.6400 - val_loss: 7.8352 - val_accuracy: 0.0759\n",
      "Epoch 17/30\n",
      "4301/4301 [==============================] - 564s 131ms/step - loss: 1.5361 - accuracy: 0.6492 - val_loss: 7.9350 - val_accuracy: 0.0746\n",
      "Epoch 18/30\n",
      "4301/4301 [==============================] - 565s 131ms/step - loss: 1.4935 - accuracy: 0.6560 - val_loss: 8.0133 - val_accuracy: 0.0767\n",
      "Epoch 19/30\n",
      "4301/4301 [==============================] - 565s 131ms/step - loss: 1.4514 - accuracy: 0.6638 - val_loss: 8.0936 - val_accuracy: 0.0762\n",
      "Epoch 20/30\n",
      "4301/4301 [==============================] - 565s 131ms/step - loss: 1.4250 - accuracy: 0.6681 - val_loss: 8.1205 - val_accuracy: 0.0752\n",
      "Epoch 21/30\n",
      "4301/4301 [==============================] - 565s 131ms/step - loss: 1.3919 - accuracy: 0.6733 - val_loss: 8.2206 - val_accuracy: 0.0759\n",
      "Epoch 22/30\n",
      "4301/4301 [==============================] - 565s 131ms/step - loss: 1.3724 - accuracy: 0.6751 - val_loss: 8.2485 - val_accuracy: 0.0765\n",
      "Epoch 23/30\n",
      "4301/4301 [==============================] - 565s 131ms/step - loss: 1.3508 - accuracy: 0.6800 - val_loss: 8.3053 - val_accuracy: 0.0751\n",
      "Epoch 24/30\n",
      "4301/4301 [==============================] - 564s 131ms/step - loss: 1.3277 - accuracy: 0.6831 - val_loss: 8.3513 - val_accuracy: 0.0757\n",
      "Epoch 25/30\n",
      "4301/4301 [==============================] - 565s 131ms/step - loss: 1.3114 - accuracy: 0.6855 - val_loss: 8.4131 - val_accuracy: 0.0755\n",
      "Epoch 26/30\n",
      "4301/4301 [==============================] - 569s 132ms/step - loss: 1.2951 - accuracy: 0.6886 - val_loss: 8.4938 - val_accuracy: 0.0749\n",
      "Epoch 27/30\n",
      "4301/4301 [==============================] - 575s 134ms/step - loss: 1.2873 - accuracy: 0.6883 - val_loss: 8.4814 - val_accuracy: 0.0749\n",
      "Epoch 28/30\n",
      "4301/4301 [==============================] - 574s 133ms/step - loss: 1.2795 - accuracy: 0.6887 - val_loss: 8.4993 - val_accuracy: 0.0766\n",
      "Epoch 29/30\n",
      "4301/4301 [==============================] - 572s 133ms/step - loss: 1.2687 - accuracy: 0.6908 - val_loss: 8.5494 - val_accuracy: 0.0762\n",
      "Epoch 30/30\n",
      "4301/4301 [==============================] - 573s 133ms/step - loss: 1.2659 - accuracy: 0.6904 - val_loss: 8.5659 - val_accuracy: 0.0751\n"
     ]
    }
   ],
   "source": [
    "model.compile(loss='categorical_crossentropy', optimizer='adam', metrics=['accuracy'])\n",
    "\n",
    "earlystop = EarlyStopping(monitor='loss', min_delta=0, patience=3, verbose=0, mode='auto')\n",
    "history = model.fit(X, y, batch_size=32, epochs=30,callbacks=[earlystop], validation_split = 0.3)"
   ]
  },
  {
   "cell_type": "markdown",
   "metadata": {},
   "source": [
    "# Save The Model"
   ]
  },
  {
   "cell_type": "code",
   "execution_count": 10,
   "metadata": {
    "execution": {
     "iopub.execute_input": "2022-01-10T22:26:59.721690Z",
     "iopub.status.busy": "2022-01-10T22:26:59.721432Z",
     "iopub.status.idle": "2022-01-10T22:26:59.873722Z",
     "shell.execute_reply": "2022-01-10T22:26:59.872961Z",
     "shell.execute_reply.started": "2022-01-10T22:26:59.721660Z"
    }
   },
   "outputs": [],
   "source": [
    "# save model before continuing the code, in case we run out of memory\n",
    "from tensorflow.keras.models import load_model\n",
    "model.save('song_lyrics_generator_Not_One.h5')"
   ]
  },
  {
   "cell_type": "markdown",
   "metadata": {},
   "source": [
    "# Plot losses"
   ]
  },
  {
   "cell_type": "code",
   "execution_count": 11,
   "metadata": {
    "execution": {
     "iopub.execute_input": "2022-01-10T22:26:59.875468Z",
     "iopub.status.busy": "2022-01-10T22:26:59.875212Z",
     "iopub.status.idle": "2022-01-10T22:27:00.155284Z",
     "shell.execute_reply": "2022-01-10T22:27:00.154562Z",
     "shell.execute_reply.started": "2022-01-10T22:26:59.875433Z"
    }
   },
   "outputs": [
    {
     "data": {
      "text/plain": [
       "<AxesSubplot:>"
      ]
     },
     "execution_count": 11,
     "metadata": {},
     "output_type": "execute_result"
    },
    {
     "data": {
      "image/png": "[encoded data removed]",
      "text/plain": [
       "<Figure size 432x288 with 1 Axes>"
      ]
     },
     "metadata": {
      "needs_background": "light"
     },
     "output_type": "display_data"
    }
   ],
   "source": [
    "df = pd.DataFrame(history.history)\n",
    "df[['loss','val_loss']].plot()"
   ]
  },
  {
   "cell_type": "markdown",
   "metadata": {},
   "source": [
    "# Generating Song Lyrics"
   ]
  },
  {
   "cell_type": "code",
   "execution_count": 12,
   "metadata": {
    "execution": {
     "iopub.execute_input": "2022-01-10T22:27:00.157137Z",
     "iopub.status.busy": "2022-01-10T22:27:00.156437Z",
     "iopub.status.idle": "2022-01-10T22:27:00.164723Z",
     "shell.execute_reply": "2022-01-10T22:27:00.163966Z",
     "shell.execute_reply.started": "2022-01-10T22:27:00.157075Z"
    }
   },
   "outputs": [],
   "source": [
    "# el input_text dh el text elly badeehlo, w bykamel 3leh el o8nya\n",
    "# next_words dyh 3adad el kalemat el hy3mlha prediction\n",
    "def complete_this_song(input_text, next_words):\n",
    "    for _ in range(next_words):\n",
    "        # for _ in... this is like a place holder, which upholds the syntax.\n",
    "        # We use it when we don't want to use the variable, so we leave it empty.\n",
    "        \n",
    "        # Doing the same things to the input as we did when training the model\n",
    "        token_list = tokenizer.texts_to_sequences([input_text])[0]\n",
    "        token_list = pad_sequences([token_list], maxlen=max_sequence_len-1, padding='pre')\n",
    "        #predicted = model.predict_classes(token_list, verbose=0)\n",
    "        predicted = np.argmax(model.predict(token_list), axis=-1)\n",
    "        \n",
    "        output_word = \"\"\n",
    "        for word, index in tokenizer.word_index.items():\n",
    "            if index == predicted:\n",
    "                # Gets the word corresponding the the value predicted\n",
    "                # [Converting from numeric to string again]\n",
    "                output_word = word\n",
    "                break\n",
    "        input_text += \" \" + output_word\n",
    "    return input_text\n"
   ]
  },
  {
   "cell_type": "code",
   "execution_count": 13,
   "metadata": {
    "execution": {
     "iopub.execute_input": "2022-01-10T22:27:00.166220Z",
     "iopub.status.busy": "2022-01-10T22:27:00.165824Z",
     "iopub.status.idle": "2022-01-10T22:27:00.174360Z",
     "shell.execute_reply": "2022-01-10T22:27:00.173734Z",
     "shell.execute_reply.started": "2022-01-10T22:27:00.166149Z"
    }
   },
   "outputs": [],
   "source": [
    "#complete_this_song(\"i must tell you about\", 40)"
   ]
  },
  {
   "cell_type": "code",
   "execution_count": 14,
   "metadata": {
    "execution": {
     "iopub.execute_input": "2022-01-10T22:27:00.175871Z",
     "iopub.status.busy": "2022-01-10T22:27:00.175610Z",
     "iopub.status.idle": "2022-01-10T22:27:12.899385Z",
     "shell.execute_reply": "2022-01-10T22:27:12.898702Z",
     "shell.execute_reply.started": "2022-01-10T22:27:00.175828Z"
    }
   },
   "outputs": [
    {
     "data": {
      "text/plain": [
       "\"Never have i ever know what you do not what i need anymore i don't care why are you say i would fade down but i know you dig up but baby i can't understand another day why can't you leave me just already so reason to take myself free but i won't believe you can cause yourself you won't you say no but you don't know who i am not this will you hide my time no don't you know no oh no you say i don't have to go home i won't stay no no day don't you tread now don't be no will be every time around to be i'll be so long i'll be my friend this life i have to go i'll take a love out i have all that i would feel the pain but i feel all these fears that i am not there until the night you did but i know\""
      ]
     },
     "execution_count": 14,
     "metadata": {},
     "output_type": "execute_result"
    }
   ],
   "source": [
    "complete_this_song(\"Never have i ever\", 155)"
   ]
  },
  {
   "cell_type": "code",
   "execution_count": 15,
   "metadata": {
    "execution": {
     "iopub.execute_input": "2022-01-10T22:27:12.901036Z",
     "iopub.status.busy": "2022-01-10T22:27:12.900788Z",
     "iopub.status.idle": "2022-01-10T22:27:25.263874Z",
     "shell.execute_reply": "2022-01-10T22:27:25.263174Z",
     "shell.execute_reply.started": "2022-01-10T22:27:12.901002Z"
    }
   },
   "outputs": [
    {
     "data": {
      "text/plain": [
       "\"This is the beginning of my life of me and my face and i will not be the one you ever fall but i won't ever let you down you stumbled down and you won't you be a part of me a part of me you know when you're not here with you you got to call it in this world in my head in my head in the clouds a can’t ending believe the world you breathe when we know we fear this is the time we live in this you can see a dying a pretty time you say they know you're gonna take you you never hear this time you're a thousand dream of my cloth you said you take me you take me crazy but i dont dont know no one day i didn't wanna waste my last time we lost waiting so i say no no you don't want no more you never did\""
      ]
     },
     "execution_count": 15,
     "metadata": {},
     "output_type": "execute_result"
    }
   ],
   "source": [
    "complete_this_song(\"This is the beginning\", 155)"
   ]
  },
  {
   "cell_type": "code",
   "execution_count": 16,
   "metadata": {
    "execution": {
     "iopub.execute_input": "2022-01-10T22:27:25.265600Z",
     "iopub.status.busy": "2022-01-10T22:27:25.265350Z",
     "iopub.status.idle": "2022-01-10T22:27:26.212097Z",
     "shell.execute_reply": "2022-01-10T22:27:26.211396Z",
     "shell.execute_reply.started": "2022-01-10T22:27:25.265566Z"
    }
   },
   "outputs": [
    {
     "data": {
      "text/plain": [
       "'if i could have to the hell this is the friend you bring me to'"
      ]
     },
     "execution_count": 16,
     "metadata": {},
     "output_type": "execute_result"
    }
   ],
   "source": [
    "complete_this_song(\"if i could\", 12)"
   ]
  },
  {
   "cell_type": "code",
   "execution_count": 17,
   "metadata": {
    "execution": {
     "iopub.execute_input": "2022-01-10T22:27:26.213628Z",
     "iopub.status.busy": "2022-01-10T22:27:26.213367Z",
     "iopub.status.idle": "2022-01-10T22:27:28.956351Z",
     "shell.execute_reply": "2022-01-10T22:27:28.955663Z",
     "shell.execute_reply.started": "2022-01-10T22:27:26.213591Z"
    }
   },
   "outputs": [
    {
     "data": {
      "text/plain": [
       "\"i must tell you about my face you see me my heaven friend i am not on a dream but you're just a minute that i believe you try to understand you're scared to change who i saw you so you make me feel like\""
      ]
     },
     "execution_count": 17,
     "metadata": {},
     "output_type": "execute_result"
    }
   ],
   "source": [
    "complete_this_song(\"i must tell you about\", 40)"
   ]
  }
 ],
 "metadata": {
  "kernelspec": {
   "display_name": "Python 3 (ipykernel)",
   "language": "python",
   "name": "python3"
  },
  "language_info": {
   "codemirror_mode": {
    "name": "ipython",
    "version": 3
   },
   "file_extension": ".py",
   "mimetype": "text/x-python",
   "name": "python",
   "nbconvert_exporter": "python",
   "pygments_lexer": "ipython3",
   "version": "3.8.8"
  }
 },
 "nbformat": 4,
 "nbformat_minor": 4
}
