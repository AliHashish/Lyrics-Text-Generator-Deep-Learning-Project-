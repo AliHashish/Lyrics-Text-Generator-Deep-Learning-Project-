{
 "cells": [
  {
   "cell_type": "markdown",
   "metadata": {
    "_cell_guid": "b1076dfc-b9ad-4769-8c92-a6c4dae69d19",
    "_uuid": "8f2839f25d086af736a60e9eeb907d3b93b6e0e5"
   },
   "source": [
    "# Import Libraries"
   ]
  },
  {
   "cell_type": "code",
   "execution_count": 1,
   "metadata": {
    "execution": {
     "iopub.execute_input": "2022-01-11T11:19:46.856159Z",
     "iopub.status.busy": "2022-01-11T11:19:46.855514Z",
     "iopub.status.idle": "2022-01-11T11:19:52.601980Z",
     "shell.execute_reply": "2022-01-11T11:19:52.601210Z",
     "shell.execute_reply.started": "2022-01-11T11:19:46.856053Z"
    }
   },
   "outputs": [],
   "source": [
    "import pandas as pd\n",
    "import numpy as np\n",
    "import seaborn as sns\n",
    "import matplotlib.pyplot as plt\n",
    "from wordcloud import WordCloud, STOPWORDS, ImageColorGenerator\n",
    "import string, os \n",
    "import tensorflow as tf\n",
    "\n",
    "# keras module for building LSTM \n",
    "from keras.preprocessing.sequence import pad_sequences\n",
    "from tensorflow.keras.layers import Embedding, Dropout, LSTM, Dense, Bidirectional,SimpleRNN\n",
    "from keras.preprocessing.text import Tokenizer\n",
    "from keras.callbacks import EarlyStopping\n",
    "from keras.models import Sequential\n",
    "\n",
    "import matplotlib.pyplot as plt\n",
    "import seaborn as sns\n",
    "import matplotlib.pyplot as plt"
   ]
  },
  {
   "cell_type": "markdown",
   "metadata": {},
   "source": [
    "# Reading Data"
   ]
  },
  {
   "cell_type": "code",
   "execution_count": 2,
   "metadata": {
    "execution": {
     "iopub.execute_input": "2022-01-11T11:19:52.604072Z",
     "iopub.status.busy": "2022-01-11T11:19:52.603809Z",
     "iopub.status.idle": "2022-01-11T11:19:59.606127Z",
     "shell.execute_reply": "2022-01-11T11:19:59.605445Z",
     "shell.execute_reply.started": "2022-01-11T11:19:52.604034Z"
    }
   },
   "outputs": [
    {
     "data": {
      "text/plain": [
       "(500, 2)"
      ]
     },
     "execution_count": 2,
     "metadata": {},
     "output_type": "execute_result"
    }
   ],
   "source": [
    "# csv file\n",
    "df = pd.read_csv('../input/scrapped-lyrics-from-6-genres/lyrics-data.csv')\n",
    "\n",
    "\n",
    "# As the model takes a lot of time to train using the whole dataset\n",
    "# We will instead use only a small portion of it, and in order to increase\n",
    "# accuracy, we will train the model one songs written by one author, namely Evlis\n",
    "# Presley, whose songs were written back in the 70's, before modern day \"Rap English\"\n",
    "# was common in songs.\n",
    "\n",
    "# Getting songs written by one author\n",
    "df = df[df['ALink']==\"/elvis-presley/\"]\n",
    "# Training on English songs only\n",
    "df.drop(['ALink','SName','SLink'],axis=1,inplace=True)\n",
    "df = df[df['Idiom']=='ENGLISH']\n",
    "df = df[:500]\n",
    "df.shape"
   ]
  },
  {
   "cell_type": "markdown",
   "metadata": {},
   "source": [
    "# Data Preprocessing"
   ]
  },
  {
   "cell_type": "code",
   "execution_count": 3,
   "metadata": {
    "execution": {
     "iopub.execute_input": "2022-01-11T11:19:59.609189Z",
     "iopub.status.busy": "2022-01-11T11:19:59.608205Z",
     "iopub.status.idle": "2022-01-11T11:19:59.720766Z",
     "shell.execute_reply": "2022-01-11T11:19:59.719946Z",
     "shell.execute_reply.started": "2022-01-11T11:19:59.609106Z"
    }
   },
   "outputs": [],
   "source": [
    "# Tokenization\n",
    "tokenizer = Tokenizer()\n",
    "# Used to preprocess the text, by removing the comma and\n",
    "# other punctuations for example. We also removed numbers\n",
    "# It also splits the sentences to words, and turns all words\n",
    "# into lower case\n",
    "\n",
    "tokenizer.fit_on_texts(df['Lyric'].astype(str).str.lower())\n",
    "# Applying the tokenizer\n",
    "\n",
    "total_words = len(tokenizer.word_index)+1\n",
    "# We add one to the index, as index starts from zero\n",
    "\n",
    "tokenized_sentences = tokenizer.texts_to_sequences(df['Lyric'].astype(str))\n",
    "# Turns the words into integer type by classifying them according to word dictionary.\n",
    "#tokenized_sentences[0]\n",
    "# Checking the first element, to understand what happened"
   ]
  },
  {
   "cell_type": "code",
   "execution_count": 4,
   "metadata": {
    "execution": {
     "iopub.execute_input": "2022-01-11T11:19:59.724061Z",
     "iopub.status.busy": "2022-01-11T11:19:59.723520Z",
     "iopub.status.idle": "2022-01-11T11:20:02.045835Z",
     "shell.execute_reply": "2022-01-11T11:20:02.045067Z",
     "shell.execute_reply.started": "2022-01-11T11:19:59.724019Z"
    }
   },
   "outputs": [],
   "source": [
    "# Slash sequences into n gram sequence\n",
    "input_sequences = list()\n",
    "for i in tokenized_sentences:\n",
    "    for t in range(1, len(i)):\n",
    "        n_gram_sequence = i[:t+1]\n",
    "        input_sequences.append(n_gram_sequence)\n",
    "# Having reached this point, input_sequences contains array of lists of words, starting from\n",
    "# a list containg 2 words, then we append a third word to them, then another word, and so on.\n",
    "# This causes a problem, as the length of the lists are not equal, so we pad them by adding zeros\n",
    "# at the beginnig, till they are all of the same length (the maximum length)\n",
    "        \n",
    "# Pre padding\n",
    "max_sequence_len = max([len(x) for x in input_sequences]) \n",
    "# Gets the length of the longest list in the \n",
    "# array of lists\n",
    "input_sequences = np.array(pad_sequences(input_sequences, maxlen=max_sequence_len, padding='pre'))"
   ]
  },
  {
   "cell_type": "code",
   "execution_count": 5,
   "metadata": {
    "execution": {
     "iopub.execute_input": "2022-01-11T11:20:02.048023Z",
     "iopub.status.busy": "2022-01-11T11:20:02.047514Z",
     "iopub.status.idle": "2022-01-11T11:20:02.211198Z",
     "shell.execute_reply": "2022-01-11T11:20:02.210296Z",
     "shell.execute_reply.started": "2022-01-11T11:20:02.047966Z"
    }
   },
   "outputs": [],
   "source": [
    "# Dividing the data into X, y -----> the training set, and the labels to be predicted\n",
    "X, labels = input_sequences[:,:-1],input_sequences[:,-1]\n",
    "# Takes all elemnts in each row, except the last element, and places them in X\n",
    "# while labels takes the last element (the element which we should predict)\n",
    "\n",
    "y = tf.keras.utils.to_categorical(labels, num_classes=total_words) # One hot encoding\n",
    "# number of classes is now equal to the number of unique words in the song lyrics"
   ]
  },
  {
   "cell_type": "markdown",
   "metadata": {},
   "source": [
    "# Model"
   ]
  },
  {
   "cell_type": "code",
   "execution_count": 6,
   "metadata": {
    "execution": {
     "iopub.execute_input": "2022-01-11T11:20:02.212852Z",
     "iopub.status.busy": "2022-01-11T11:20:02.212592Z",
     "iopub.status.idle": "2022-01-11T11:20:04.455944Z",
     "shell.execute_reply": "2022-01-11T11:20:04.454343Z",
     "shell.execute_reply.started": "2022-01-11T11:20:02.212815Z"
    }
   },
   "outputs": [
    {
     "name": "stderr",
     "output_type": "stream",
     "text": [
      "2022-01-11 11:20:02.285965: I tensorflow/stream_executor/cuda/cuda_gpu_executor.cc:937] successful NUMA node read from SysFS had negative value (-1), but there must be at least one NUMA node, so returning NUMA node zero\n",
      "2022-01-11 11:20:02.379525: I tensorflow/stream_executor/cuda/cuda_gpu_executor.cc:937] successful NUMA node read from SysFS had negative value (-1), but there must be at least one NUMA node, so returning NUMA node zero\n",
      "2022-01-11 11:20:02.380382: I tensorflow/stream_executor/cuda/cuda_gpu_executor.cc:937] successful NUMA node read from SysFS had negative value (-1), but there must be at least one NUMA node, so returning NUMA node zero\n",
      "2022-01-11 11:20:02.381769: I tensorflow/core/platform/cpu_feature_guard.cc:142] This TensorFlow binary is optimized with oneAPI Deep Neural Network Library (oneDNN) to use the following CPU instructions in performance-critical operations:  AVX2 AVX512F FMA\n",
      "To enable them in other operations, rebuild TensorFlow with the appropriate compiler flags.\n",
      "2022-01-11 11:20:02.382953: I tensorflow/stream_executor/cuda/cuda_gpu_executor.cc:937] successful NUMA node read from SysFS had negative value (-1), but there must be at least one NUMA node, so returning NUMA node zero\n",
      "2022-01-11 11:20:02.383842: I tensorflow/stream_executor/cuda/cuda_gpu_executor.cc:937] successful NUMA node read from SysFS had negative value (-1), but there must be at least one NUMA node, so returning NUMA node zero\n",
      "2022-01-11 11:20:02.384463: I tensorflow/stream_executor/cuda/cuda_gpu_executor.cc:937] successful NUMA node read from SysFS had negative value (-1), but there must be at least one NUMA node, so returning NUMA node zero\n",
      "2022-01-11 11:20:04.124827: I tensorflow/stream_executor/cuda/cuda_gpu_executor.cc:937] successful NUMA node read from SysFS had negative value (-1), but there must be at least one NUMA node, so returning NUMA node zero\n",
      "2022-01-11 11:20:04.125640: I tensorflow/stream_executor/cuda/cuda_gpu_executor.cc:937] successful NUMA node read from SysFS had negative value (-1), but there must be at least one NUMA node, so returning NUMA node zero\n",
      "2022-01-11 11:20:04.126290: I tensorflow/stream_executor/cuda/cuda_gpu_executor.cc:937] successful NUMA node read from SysFS had negative value (-1), but there must be at least one NUMA node, so returning NUMA node zero\n",
      "2022-01-11 11:20:04.126908: I tensorflow/core/common_runtime/gpu/gpu_device.cc:1510] Created device /job:localhost/replica:0/task:0/device:GPU:0 with 15403 MB memory:  -> device: 0, name: Tesla P100-PCIE-16GB, pci bus id: 0000:00:04.0, compute capability: 6.0\n"
     ]
    }
   ],
   "source": [
    "# creating model\n",
    "model = Sequential()"
   ]
  },
  {
   "cell_type": "code",
   "execution_count": 7,
   "metadata": {
    "execution": {
     "iopub.execute_input": "2022-01-11T11:20:04.457594Z",
     "iopub.status.busy": "2022-01-11T11:20:04.457252Z",
     "iopub.status.idle": "2022-01-11T11:20:04.651167Z",
     "shell.execute_reply": "2022-01-11T11:20:04.650340Z",
     "shell.execute_reply.started": "2022-01-11T11:20:04.457538Z"
    }
   },
   "outputs": [],
   "source": [
    "#model = Sequential()\n",
    "model.add(Embedding(total_words, 40, input_length=max_sequence_len-1))\n",
    "# dimension of input: total_words, the number of unique words we have\n",
    "# 40: the desired dimension of the output\n",
    "# input_length: the sequence length is all the words except the last one (the one\n",
    "# we will predict)\n",
    "model.add(Bidirectional(SimpleRNN(250))) # 250 is the average number of words in a song\n",
    "# So our cycle is the average length of a song\n",
    "# We used LSTM instead of simple RNN as simple RNN faces a vanishing gradient\n",
    "# problem, also, we need to remember the previous words, to predict the next words.\n",
    "\n",
    "model.add(Dropout(0.1)) # To overcome overfitting\n",
    "model.add(Dense(total_words, activation='softmax'))"
   ]
  },
  {
   "cell_type": "code",
   "execution_count": 8,
   "metadata": {
    "execution": {
     "iopub.execute_input": "2022-01-11T11:20:04.652611Z",
     "iopub.status.busy": "2022-01-11T11:20:04.652355Z",
     "iopub.status.idle": "2022-01-11T11:20:04.662088Z",
     "shell.execute_reply": "2022-01-11T11:20:04.661261Z",
     "shell.execute_reply.started": "2022-01-11T11:20:04.652577Z"
    }
   },
   "outputs": [
    {
     "name": "stdout",
     "output_type": "stream",
     "text": [
      "Model: \"sequential\"\n",
      "_________________________________________________________________\n",
      "Layer (type)                 Output Shape              Param #   \n",
      "=================================================================\n",
      "embedding (Embedding)        (None, 450, 40)           181280    \n",
      "_________________________________________________________________\n",
      "bidirectional (Bidirectional (None, 500)               145500    \n",
      "_________________________________________________________________\n",
      "dropout (Dropout)            (None, 500)               0         \n",
      "_________________________________________________________________\n",
      "dense (Dense)                (None, 4532)              2270532   \n",
      "=================================================================\n",
      "Total params: 2,597,312\n",
      "Trainable params: 2,597,312\n",
      "Non-trainable params: 0\n",
      "_________________________________________________________________\n"
     ]
    }
   ],
   "source": [
    "model.summary()"
   ]
  },
  {
   "cell_type": "code",
   "execution_count": 9,
   "metadata": {
    "execution": {
     "iopub.execute_input": "2022-01-11T11:20:04.664228Z",
     "iopub.status.busy": "2022-01-11T11:20:04.663702Z",
     "iopub.status.idle": "2022-01-11T12:10:30.232324Z",
     "shell.execute_reply": "2022-01-11T12:10:30.231447Z",
     "shell.execute_reply.started": "2022-01-11T11:20:04.664187Z"
    }
   },
   "outputs": [
    {
     "name": "stderr",
     "output_type": "stream",
     "text": [
      "2022-01-11 11:20:04.796864: W tensorflow/core/framework/cpu_allocator_impl.cc:80] Allocation of 1108853504 exceeds 10% of free system memory.\n",
      "2022-01-11 11:20:06.107742: W tensorflow/core/framework/cpu_allocator_impl.cc:80] Allocation of 1108853504 exceeds 10% of free system memory.\n",
      "2022-01-11 11:20:06.946606: I tensorflow/compiler/mlir/mlir_graph_optimization_pass.cc:185] None of the MLIR Optimization Passes are enabled (registered 2)\n"
     ]
    },
    {
     "name": "stdout",
     "output_type": "stream",
     "text": [
      "Epoch 1/2\n",
      "1912/1912 [==============================] - 1502s 784ms/step - loss: 6.9790 - accuracy: 0.0284 - val_loss: 7.1934 - val_accuracy: 0.0328\n",
      "Epoch 2/2\n",
      "1912/1912 [==============================] - 1512s 791ms/step - loss: 6.6682 - accuracy: 0.0366 - val_loss: 7.0511 - val_accuracy: 0.0420\n"
     ]
    }
   ],
   "source": [
    "model.compile(loss='categorical_crossentropy', optimizer='adam', metrics=['accuracy'])\n",
    "\n",
    "earlystop = EarlyStopping(monitor='loss', min_delta=0, patience=3, verbose=0, mode='auto')\n",
    "history = model.fit(X, y, batch_size=32, epochs=2,callbacks=[earlystop], validation_split = 0.2)"
   ]
  },
  {
   "cell_type": "markdown",
   "metadata": {},
   "source": [
    "# Save The Model"
   ]
  },
  {
   "cell_type": "code",
   "execution_count": 10,
   "metadata": {
    "execution": {
     "iopub.execute_input": "2022-01-11T12:10:30.237363Z",
     "iopub.status.busy": "2022-01-11T12:10:30.237002Z",
     "iopub.status.idle": "2022-01-11T12:10:30.333328Z",
     "shell.execute_reply": "2022-01-11T12:10:30.332613Z",
     "shell.execute_reply.started": "2022-01-11T12:10:30.237323Z"
    }
   },
   "outputs": [],
   "source": [
    "# save model before continuing the code, in case we run out of memory\n",
    "from tensorflow.keras.models import load_model\n",
    "model.save('lyrics_generator_Simp.h5')"
   ]
  },
  {
   "cell_type": "markdown",
   "metadata": {},
   "source": [
    "# Plot losses"
   ]
  },
  {
   "cell_type": "code",
   "execution_count": 11,
   "metadata": {
    "execution": {
     "iopub.execute_input": "2022-01-11T12:10:30.372348Z",
     "iopub.status.busy": "2022-01-11T12:10:30.371558Z",
     "iopub.status.idle": "2022-01-11T12:10:30.701611Z",
     "shell.execute_reply": "2022-01-11T12:10:30.700843Z",
     "shell.execute_reply.started": "2022-01-11T12:10:30.372293Z"
    }
   },
   "outputs": [
    {
     "data": {
      "text/plain": [
       "<AxesSubplot:>"
      ]
     },
     "execution_count": 11,
     "metadata": {},
     "output_type": "execute_result"
    },
    {
     "data": {
      "image/png": "[encoded data removed]",
      "text/plain": [
       "<Figure size 432x288 with 1 Axes>"
      ]
     },
     "metadata": {
      "needs_background": "light"
     },
     "output_type": "display_data"
    }
   ],
   "source": [
    "df = pd.DataFrame(history.history)\n",
    "df[['loss','val_loss']].plot()"
   ]
  },
  {
   "cell_type": "markdown",
   "metadata": {},
   "source": [
    "# Generating Song Lyrics"
   ]
  },
  {
   "cell_type": "code",
   "execution_count": 12,
   "metadata": {
    "execution": {
     "iopub.execute_input": "2022-01-11T12:10:30.703758Z",
     "iopub.status.busy": "2022-01-11T12:10:30.703483Z",
     "iopub.status.idle": "2022-01-11T12:10:30.711511Z",
     "shell.execute_reply": "2022-01-11T12:10:30.710859Z",
     "shell.execute_reply.started": "2022-01-11T12:10:30.703721Z"
    }
   },
   "outputs": [],
   "source": [
    "# el input_text dh el text elly badeehlo, w bykamel 3leh el o8nya\n",
    "# next_words dyh 3adad el kalemat el hy3mlha prediction\n",
    "def complete_this_song(input_text, next_words):\n",
    "    for _ in range(next_words):\n",
    "        # for _ in... this is like a place holder, which upholds the syntax.\n",
    "        # We use it when we don't want to use the variable, so we leave it empty.\n",
    "        \n",
    "        # Doing the same things to the input as we did when training the model\n",
    "        token_list = tokenizer.texts_to_sequences([input_text])[0]\n",
    "        token_list = pad_sequences([token_list], maxlen=max_sequence_len-1, padding='pre')\n",
    "        #predicted = model.predict_classes(token_list, verbose=0)\n",
    "        predicted = np.argmax(model.predict(token_list), axis=-1)\n",
    "        \n",
    "        output_word = \"\"\n",
    "        for word, index in tokenizer.word_index.items():\n",
    "            if index == predicted:\n",
    "                # Gets the word corresponding the the value predicted\n",
    "                # [Converting from numeric to string again]\n",
    "                output_word = word\n",
    "                break\n",
    "        input_text += \" \" + output_word\n",
    "    return input_text\n"
   ]
  },
  {
   "cell_type": "code",
   "execution_count": 13,
   "metadata": {
    "execution": {
     "iopub.execute_input": "2022-01-11T12:10:30.713609Z",
     "iopub.status.busy": "2022-01-11T12:10:30.712981Z",
     "iopub.status.idle": "2022-01-11T12:10:30.727115Z",
     "shell.execute_reply": "2022-01-11T12:10:30.726155Z",
     "shell.execute_reply.started": "2022-01-11T12:10:30.713550Z"
    }
   },
   "outputs": [],
   "source": [
    "#complete_this_song(\"i must tell you about\", 40)"
   ]
  },
  {
   "cell_type": "code",
   "execution_count": 14,
   "metadata": {
    "execution": {
     "iopub.execute_input": "2022-01-11T12:10:30.728874Z",
     "iopub.status.busy": "2022-01-11T12:10:30.728438Z",
     "iopub.status.idle": "2022-01-11T12:10:46.117236Z",
     "shell.execute_reply": "2022-01-11T12:10:46.116450Z",
     "shell.execute_reply.started": "2022-01-11T12:10:30.728836Z"
    }
   },
   "outputs": [
    {
     "data": {
      "text/plain": [
       "\"Never have i ever know you don't know you don't know you don't know you don't know you don't know you don't know you don't know you don't know you don't know you don't know you don't know you don't know you don't know you don't know you don't know you don't know you don't know you don't know you don't know you don't know you don't know you don't know you don't know you don't know you don't know you don't know you don't know you don't know you don't know you don't know you don't know you don't know you don't know you don't know you don't know you don't know you don't know you don't know you don't know you don't know you don't know you don't know you don't know you don't know you don't know you don't know you don't know you don't know you don't know you don't know you don't know you\""
      ]
     },
     "execution_count": 14,
     "metadata": {},
     "output_type": "execute_result"
    }
   ],
   "source": [
    "complete_this_song(\"Never have i ever\", 155)"
   ]
  },
  {
   "cell_type": "code",
   "execution_count": 15,
   "metadata": {
    "execution": {
     "iopub.execute_input": "2022-01-11T12:10:46.119715Z",
     "iopub.status.busy": "2022-01-11T12:10:46.119043Z",
     "iopub.status.idle": "2022-01-11T12:11:00.930148Z",
     "shell.execute_reply": "2022-01-11T12:11:00.929424Z",
     "shell.execute_reply.started": "2022-01-11T12:10:46.119676Z"
    }
   },
   "outputs": [
    {
     "data": {
      "text/plain": [
       "'This is the beginning a eyes and a eyes and a eyes and a eyes and a eyes and a eyes and a eyes and a eyes and a eyes and a eyes and a eyes and a eyes and a eyes and a eyes and a eyes and a eyes and a eyes and a eyes and a eyes and a eyes and a eyes and a eyes and a eyes and a eyes and a eyes and a eyes and a eyes and a eyes and a eyes and a eyes and a eyes and a eyes and a eyes and a eyes and a eyes and a eyes and a eyes and a eyes and a eyes and a eyes and a eyes and a eyes and a eyes and a eyes and a eyes and a eyes and a eyes and a eyes and a eyes and a eyes and a eyes and a eyes'"
      ]
     },
     "execution_count": 15,
     "metadata": {},
     "output_type": "execute_result"
    }
   ],
   "source": [
    "complete_this_song(\"This is the beginning\", 155)"
   ]
  },
  {
   "cell_type": "code",
   "execution_count": 16,
   "metadata": {
    "execution": {
     "iopub.execute_input": "2022-01-11T12:11:00.935104Z",
     "iopub.status.busy": "2022-01-11T12:11:00.934134Z",
     "iopub.status.idle": "2022-01-11T12:11:02.050324Z",
     "shell.execute_reply": "2022-01-11T12:11:02.049464Z",
     "shell.execute_reply.started": "2022-01-11T12:11:00.935063Z"
    }
   },
   "outputs": [
    {
     "data": {
      "text/plain": [
       "\"if i could know you don't know you don't know you don't know you don't\""
      ]
     },
     "execution_count": 16,
     "metadata": {},
     "output_type": "execute_result"
    }
   ],
   "source": [
    "complete_this_song(\"if i could\", 12)"
   ]
  },
  {
   "cell_type": "code",
   "execution_count": 17,
   "metadata": {
    "execution": {
     "iopub.execute_input": "2022-01-11T12:11:02.053025Z",
     "iopub.status.busy": "2022-01-11T12:11:02.051992Z",
     "iopub.status.idle": "2022-01-11T12:11:05.988205Z",
     "shell.execute_reply": "2022-01-11T12:11:05.987465Z",
     "shell.execute_reply.started": "2022-01-11T12:11:02.052984Z"
    }
   },
   "outputs": [
    {
     "data": {
      "text/plain": [
       "\"i must tell you about you don't know you don't know you don't know you don't know you don't know you don't know you don't know you don't know you don't know you don't know you don't know you don't know you don't know you\""
      ]
     },
     "execution_count": 17,
     "metadata": {},
     "output_type": "execute_result"
    }
   ],
   "source": [
    "complete_this_song(\"i must tell you about\", 40)"
   ]
  },
  {
   "cell_type": "code",
   "execution_count": null,
   "metadata": {},
   "outputs": [],
   "source": []
  }
 ],
 "metadata": {
  "kernelspec": {
   "display_name": "Python 3 (ipykernel)",
   "language": "python",
   "name": "python3"
  },
  "language_info": {
   "codemirror_mode": {
    "name": "ipython",
    "version": 3
   },
   "file_extension": ".py",
   "mimetype": "text/x-python",
   "name": "python",
   "nbconvert_exporter": "python",
   "pygments_lexer": "ipython3",
   "version": "3.8.8"
  }
 },
 "nbformat": 4,
 "nbformat_minor": 4
}
