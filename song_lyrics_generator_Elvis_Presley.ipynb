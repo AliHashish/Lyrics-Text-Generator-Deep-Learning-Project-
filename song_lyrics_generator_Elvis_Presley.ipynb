{
 "cells": [
  {
   "cell_type": "markdown",
   "metadata": {
    "id": "h78OhVG1OYK4"
   },
   "source": [
    "# Import Libraries"
   ]
  },
  {
   "cell_type": "code",
   "execution_count": 1,
   "metadata": {
    "execution": {
     "iopub.execute_input": "2022-01-06T15:33:26.856256Z",
     "iopub.status.busy": "2022-01-06T15:33:26.855619Z",
     "iopub.status.idle": "2022-01-06T15:33:31.884519Z",
     "shell.execute_reply": "2022-01-06T15:33:31.883627Z",
     "shell.execute_reply.started": "2022-01-06T15:33:26.856134Z"
    },
    "id": "WdCpJW7-OYK9"
   },
   "outputs": [],
   "source": [
    "import pandas as pd\n",
    "import numpy as np\n",
    "import seaborn as sns\n",
    "import matplotlib.pyplot as plt\n",
    "from wordcloud import WordCloud, STOPWORDS, ImageColorGenerator\n",
    "import string, os \n",
    "import tensorflow as tf\n",
    "\n",
    "# keras module for building LSTM \n",
    "from keras.preprocessing.sequence import pad_sequences\n",
    "from tensorflow.keras.layers import Embedding, Dropout, LSTM, Dense, Bidirectional \n",
    "from keras.preprocessing.text import Tokenizer\n",
    "from keras.callbacks import EarlyStopping, ReduceLROnPlateau\n",
    "from keras.models import Sequential\n",
    "\n",
    "import matplotlib.pyplot as plt\n",
    "import seaborn as sns"
   ]
  },
  {
   "cell_type": "code",
   "execution_count": 2,
   "metadata": {
    "execution": {
     "iopub.execute_input": "2022-01-06T15:33:31.888690Z",
     "iopub.status.busy": "2022-01-06T15:33:31.888418Z",
     "iopub.status.idle": "2022-01-06T15:33:36.554150Z",
     "shell.execute_reply": "2022-01-06T15:33:36.553379Z",
     "shell.execute_reply.started": "2022-01-06T15:33:31.888662Z"
    },
    "id": "P147ONm_OYLC"
   },
   "outputs": [],
   "source": [
    "# csv file\n",
    "df = pd.read_csv('../input/scrapped-lyrics-from-6-genres/lyrics-data.csv')\n",
    "# Getting songs written by one author\n",
    "df = df[df['ALink']==\"/elvis-presley/\"]\n",
    "# Training on English songs only\n",
    "df.drop(['ALink','SName','SLink'],axis=1,inplace=True)\n",
    "df = df[df['Idiom']=='ENGLISH']"
   ]
  },
  {
   "cell_type": "code",
   "execution_count": 3,
   "metadata": {
    "execution": {
     "iopub.execute_input": "2022-01-06T15:33:36.555748Z",
     "iopub.status.busy": "2022-01-06T15:33:36.555410Z",
     "iopub.status.idle": "2022-01-06T15:33:36.562053Z",
     "shell.execute_reply": "2022-01-06T15:33:36.561026Z",
     "shell.execute_reply.started": "2022-01-06T15:33:36.555711Z"
    },
    "id": "4VJcNMLIOYLa"
   },
   "outputs": [],
   "source": [
    "# Due to lack of memory, we can't train on the whole dataset, we need to\n",
    "# take only a portion of it\n",
    "# take first 1000 rows\n",
    "# df = df[:1000]"
   ]
  },
  {
   "cell_type": "code",
   "execution_count": 4,
   "metadata": {
    "execution": {
     "iopub.execute_input": "2022-01-06T15:33:36.564790Z",
     "iopub.status.busy": "2022-01-06T15:33:36.563891Z",
     "iopub.status.idle": "2022-01-06T15:33:36.574554Z",
     "shell.execute_reply": "2022-01-06T15:33:36.573460Z",
     "shell.execute_reply.started": "2022-01-06T15:33:36.564750Z"
    },
    "id": "QK50-ECIOYLb",
    "outputId": "8ecb9378-56c8-4d25-8314-b4d6b6e29afd"
   },
   "outputs": [
    {
     "data": {
      "text/plain": [
       "(771, 2)"
      ]
     },
     "execution_count": 4,
     "metadata": {},
     "output_type": "execute_result"
    }
   ],
   "source": [
    "# shape\n",
    "df.shape"
   ]
  },
  {
   "cell_type": "markdown",
   "metadata": {
    "id": "RWV1QTpuOYLk"
   },
   "source": [
    "# Data Preprocessing"
   ]
  },
  {
   "cell_type": "code",
   "execution_count": 5,
   "metadata": {
    "execution": {
     "iopub.execute_input": "2022-01-06T15:33:36.579645Z",
     "iopub.status.busy": "2022-01-06T15:33:36.579014Z",
     "iopub.status.idle": "2022-01-06T15:33:36.740364Z",
     "shell.execute_reply": "2022-01-06T15:33:36.739508Z",
     "shell.execute_reply.started": "2022-01-06T15:33:36.579602Z"
    },
    "id": "tQXUBBFdOYLn",
    "outputId": "4af87462-13f7-4ee6-a4fa-7054d3db8cbe"
   },
   "outputs": [
    {
     "data": {
      "text/plain": [
       "[5,\n",
       " 34,\n",
       " 1,\n",
       " 304,\n",
       " 19,\n",
       " 380,\n",
       " 5,\n",
       " 22,\n",
       " 2,\n",
       " 252,\n",
       " 1,\n",
       " 2710,\n",
       " 1941,\n",
       " 8,\n",
       " 259,\n",
       " 47,\n",
       " 72,\n",
       " 16,\n",
       " 842,\n",
       " 47,\n",
       " 1393,\n",
       " 8,\n",
       " 1202,\n",
       " 10,\n",
       " 776,\n",
       " 18,\n",
       " 1283,\n",
       " 83,\n",
       " 712,\n",
       " 4,\n",
       " 97,\n",
       " 77,\n",
       " 469,\n",
       " 83,\n",
       " 2256,\n",
       " 224,\n",
       " 5,\n",
       " 125,\n",
       " 1007,\n",
       " 5,\n",
       " 81,\n",
       " 151,\n",
       " 81,\n",
       " 209,\n",
       " 60,\n",
       " 2,\n",
       " 183,\n",
       " 16,\n",
       " 8,\n",
       " 69,\n",
       " 1942,\n",
       " 83,\n",
       " 112,\n",
       " 4,\n",
       " 891,\n",
       " 24,\n",
       " 94,\n",
       " 137,\n",
       " 102,\n",
       " 891,\n",
       " 6,\n",
       " 1008,\n",
       " 2,\n",
       " 183,\n",
       " 41,\n",
       " 2,\n",
       " 112,\n",
       " 6,\n",
       " 38,\n",
       " 5,\n",
       " 276,\n",
       " 16,\n",
       " 130,\n",
       " 186,\n",
       " 2711,\n",
       " 2,\n",
       " 1203,\n",
       " 224,\n",
       " 2712,\n",
       " 2257,\n",
       " 224,\n",
       " 1943,\n",
       " 290,\n",
       " 194,\n",
       " 1,\n",
       " 2258,\n",
       " 21,\n",
       " 5,\n",
       " 81,\n",
       " 151,\n",
       " 81,\n",
       " 209,\n",
       " 60,\n",
       " 2,\n",
       " 183,\n",
       " 16,\n",
       " 8,\n",
       " 69,\n",
       " 120,\n",
       " 64,\n",
       " 163,\n",
       " 326,\n",
       " 18,\n",
       " 280,\n",
       " 3,\n",
       " 260,\n",
       " 26,\n",
       " 2,\n",
       " 421,\n",
       " 239,\n",
       " 81,\n",
       " 209,\n",
       " 2,\n",
       " 104,\n",
       " 2713,\n",
       " 24,\n",
       " 130,\n",
       " 16,\n",
       " 20,\n",
       " 26,\n",
       " 64,\n",
       " 54,\n",
       " 477,\n",
       " 2,\n",
       " 2714,\n",
       " 16,\n",
       " 68,\n",
       " 5,\n",
       " 2715,\n",
       " 16,\n",
       " 78,\n",
       " 2,\n",
       " 2259,\n",
       " 16,\n",
       " 20,\n",
       " 5,\n",
       " 2,\n",
       " 713,\n",
       " 587,\n",
       " 5,\n",
       " 183,\n",
       " 16,\n",
       " 8,\n",
       " 69,\n",
       " 83,\n",
       " 261,\n",
       " 83,\n",
       " 1067,\n",
       " 5,\n",
       " 494,\n",
       " 83,\n",
       " 112,\n",
       " 8,\n",
       " 2716,\n",
       " 8,\n",
       " 390,\n",
       " 10,\n",
       " 1701,\n",
       " 5,\n",
       " 34,\n",
       " 66,\n",
       " 277,\n",
       " 2717,\n",
       " 2,\n",
       " 153,\n",
       " 16,\n",
       " 20,\n",
       " 22,\n",
       " 2718,\n",
       " 6,\n",
       " 126,\n",
       " 2,\n",
       " 183,\n",
       " 20,\n",
       " 12,\n",
       " 5,\n",
       " 159,\n",
       " 2,\n",
       " 72,\n",
       " 85,\n",
       " 9,\n",
       " 4,\n",
       " 1284,\n",
       " 69,\n",
       " 21,\n",
       " 30,\n",
       " 30,\n",
       " 85,\n",
       " 7,\n",
       " 2,\n",
       " 183,\n",
       " 16,\n",
       " 8,\n",
       " 69,\n",
       " 17,\n",
       " 41,\n",
       " 19,\n",
       " 4,\n",
       " 95,\n",
       " 41,\n",
       " 167,\n",
       " 46,\n",
       " 44,\n",
       " 33,\n",
       " 85,\n",
       " 1394,\n",
       " 94,\n",
       " 46,\n",
       " 167,\n",
       " 85,\n",
       " 6,\n",
       " 72,\n",
       " 1,\n",
       " 57,\n",
       " 46,\n",
       " 1702,\n",
       " 843,\n",
       " 5,\n",
       " 85,\n",
       " 1,\n",
       " 57,\n",
       " 79,\n",
       " 48,\n",
       " 117,\n",
       " 2719,\n",
       " 1,\n",
       " 1703,\n",
       " 1204,\n",
       " 2,\n",
       " 454,\n",
       " 1,\n",
       " 808,\n",
       " 5,\n",
       " 183,\n",
       " 16,\n",
       " 8,\n",
       " 69,\n",
       " 1,\n",
       " 1703,\n",
       " 1204,\n",
       " 2,\n",
       " 454,\n",
       " 1,\n",
       " 808,\n",
       " 5,\n",
       " 183,\n",
       " 16,\n",
       " 8,\n",
       " 69]"
      ]
     },
     "execution_count": 5,
     "metadata": {},
     "output_type": "execute_result"
    }
   ],
   "source": [
    "# Tokenization\n",
    "tokenizer = Tokenizer(filters='0123456789!\"#$%&()*+,-./:;<=>?@[\\\\]^_`{|}~\\t\\n')\n",
    "# Used to preprocess the text, by removing the comma and\n",
    "# other punctuations for example. We also removed numbers\n",
    "# It also splits the sentences to words, and turns all words\n",
    "# into lower case\n",
    "\n",
    "tokenizer.fit_on_texts(df['Lyric'].astype(str).str.lower())\n",
    "# Applying the tokenizer\n",
    "\n",
    "total_words = len(tokenizer.word_index)+1 \n",
    "# We add one to the index, as index starts from zero\n",
    "\n",
    "tokenized_sentences = tokenizer.texts_to_sequences(df['Lyric'].astype(str))\n",
    "# Turns the words into integer type by classifying them according to word dictionary.\n",
    "tokenized_sentences[0]\n",
    "# Checking the first element, to understand what happened"
   ]
  },
  {
   "cell_type": "code",
   "execution_count": 6,
   "metadata": {
    "execution": {
     "iopub.execute_input": "2022-01-06T15:33:36.743292Z",
     "iopub.status.busy": "2022-01-06T15:33:36.742935Z",
     "iopub.status.idle": "2022-01-06T15:33:39.788884Z",
     "shell.execute_reply": "2022-01-06T15:33:39.788099Z",
     "shell.execute_reply.started": "2022-01-06T15:33:36.743257Z"
    },
    "id": "HkMHPUwuOYLp"
   },
   "outputs": [],
   "source": [
    "# Slash sequences into n gram sequence\n",
    "input_sequences = list()\n",
    "for i in tokenized_sentences:\n",
    "    for t in range(1, len(i)):\n",
    "        n_gram_sequence = i[:t+1]\n",
    "        input_sequences.append(n_gram_sequence)\n",
    "# Having reached this point, input_sequences contains array of lists of words, starting from\n",
    "# a list containg 2 words, then we append a third word to them, then another word, and so on.\n",
    "# This causes a problem, as the length of the lists are not equal, so we pad them by adding zeros\n",
    "# at the beginnig, till they are all of the same length (the maximum length)\n",
    "        \n",
    "# Pre padding\n",
    "max_sequence_len = max([len(x) for x in input_sequences]) \n",
    "# Gets the length of the longest list in the \n",
    "# array of lists\n",
    "input_sequences = np.array(pad_sequences(input_sequences, maxlen=max_sequence_len, padding='pre'))"
   ]
  },
  {
   "cell_type": "code",
   "execution_count": 7,
   "metadata": {
    "execution": {
     "iopub.execute_input": "2022-01-06T15:33:39.790410Z",
     "iopub.status.busy": "2022-01-06T15:33:39.790059Z",
     "iopub.status.idle": "2022-01-06T15:33:39.795498Z",
     "shell.execute_reply": "2022-01-06T15:33:39.792901Z",
     "shell.execute_reply.started": "2022-01-06T15:33:39.790376Z"
    },
    "id": "Ij12ojXMOYLq"
   },
   "outputs": [],
   "source": [
    "# Taking a look at how this process works\n",
    "#testlyna= list()\n",
    "#for i in tokenized_sentences:\n",
    "#    for t in range(1, len(i)):\n",
    "#        n_gram_sequence = i[:t+1]\n",
    "#        testlyna.append(n_gram_sequence)\n",
    "#        if t==250:\n",
    "#            break\n",
    "#    break\n",
    "#print(testlyna)"
   ]
  },
  {
   "cell_type": "code",
   "execution_count": 8,
   "metadata": {
    "execution": {
     "iopub.execute_input": "2022-01-06T15:33:39.797777Z",
     "iopub.status.busy": "2022-01-06T15:33:39.797044Z",
     "iopub.status.idle": "2022-01-06T15:33:39.809771Z",
     "shell.execute_reply": "2022-01-06T15:33:39.808868Z",
     "shell.execute_reply.started": "2022-01-06T15:33:39.797738Z"
    },
    "id": "Kehj2E2DOYLq"
   },
   "outputs": [
    {
     "data": {
      "text/plain": [
       "array([[  0,   0,   0, ...,   0,   5,  34],\n",
       "       [  0,   0,   0, ...,   5,  34,   1],\n",
       "       [  0,   0,   0, ...,  34,   1, 304],\n",
       "       ...,\n",
       "       [  0,   0,   0, ...,   5,  22,   2],\n",
       "       [  0,   0,   0, ...,  22,   2, 252],\n",
       "       [  0,   0,   0, ...,   2, 252,   1]], dtype=int32)"
      ]
     },
     "execution_count": 8,
     "metadata": {},
     "output_type": "execute_result"
    }
   ],
   "source": [
    "input_sequences[:10]\n",
    "# Making sure everything is as we expected"
   ]
  },
  {
   "cell_type": "code",
   "execution_count": 9,
   "metadata": {
    "execution": {
     "iopub.execute_input": "2022-01-06T15:33:39.811966Z",
     "iopub.status.busy": "2022-01-06T15:33:39.811537Z",
     "iopub.status.idle": "2022-01-06T15:33:40.059554Z",
     "shell.execute_reply": "2022-01-06T15:33:40.058748Z",
     "shell.execute_reply.started": "2022-01-06T15:33:39.811899Z"
    },
    "id": "ER7KrZtWOYLr"
   },
   "outputs": [],
   "source": [
    "# Dividing the data into X, y -----> the training set, and the labels to be predicted\n",
    "X, labels = input_sequences[:,:-1],input_sequences[:,-1]\n",
    "# Takes all elemnts in each row, except the last element, and places them in X\n",
    "# while labels takes the last element (the element which we should predict)\n",
    "\n",
    "y = tf.keras.utils.to_categorical(labels, num_classes=total_words) # One hot encoding\n",
    "# number of classes is now equal to the number of unique words in the song lyrics"
   ]
  },
  {
   "cell_type": "markdown",
   "metadata": {
    "id": "Qa0eY3bJOYLs"
   },
   "source": [
    "# Model"
   ]
  },
  {
   "cell_type": "markdown",
   "metadata": {
    "id": "qkax47spOYLs"
   },
   "source": [
    "We will not going to create RNN model due to its vanishing gradient problem instead of that we will going to create LSTM model.LSTMs have an additional state called ‘cell state’ through which the network makes adjustments in the information flow. The advantage of this state is that the model can remember or forget the leanings more selectively."
   ]
  },
  {
   "cell_type": "code",
   "execution_count": 10,
   "metadata": {
    "execution": {
     "iopub.execute_input": "2022-01-06T15:33:40.061370Z",
     "iopub.status.busy": "2022-01-06T15:33:40.061016Z",
     "iopub.status.idle": "2022-01-06T15:33:42.240610Z",
     "shell.execute_reply": "2022-01-06T15:33:42.239827Z",
     "shell.execute_reply.started": "2022-01-06T15:33:40.061333Z"
    },
    "id": "WNlBOnAGOYLt"
   },
   "outputs": [],
   "source": [
    "# creating model\n",
    "model = Sequential()"
   ]
  },
  {
   "cell_type": "code",
   "execution_count": 11,
   "metadata": {
    "execution": {
     "iopub.execute_input": "2022-01-06T15:33:42.242338Z",
     "iopub.status.busy": "2022-01-06T15:33:42.241994Z",
     "iopub.status.idle": "2022-01-06T15:33:42.248839Z",
     "shell.execute_reply": "2022-01-06T15:33:42.247938Z",
     "shell.execute_reply.started": "2022-01-06T15:33:42.242301Z"
    },
    "id": "HFID7ZVtOYLu"
   },
   "outputs": [
    {
     "data": {
      "text/plain": [
       "451"
      ]
     },
     "execution_count": 11,
     "metadata": {},
     "output_type": "execute_result"
    }
   ],
   "source": [
    "max_sequence_len"
   ]
  },
  {
   "cell_type": "code",
   "execution_count": 12,
   "metadata": {
    "execution": {
     "iopub.execute_input": "2022-01-06T15:33:42.251088Z",
     "iopub.status.busy": "2022-01-06T15:33:42.250432Z",
     "iopub.status.idle": "2022-01-06T15:33:42.778384Z",
     "shell.execute_reply": "2022-01-06T15:33:42.777629Z",
     "shell.execute_reply.started": "2022-01-06T15:33:42.251037Z"
    },
    "id": "MmhRJM4gOYLv"
   },
   "outputs": [],
   "source": [
    "#model = Sequential()\n",
    "model.add(Embedding(total_words, 40, input_length=max_sequence_len-1))\n",
    "# dimension of input: total_words, the number of unique words we have\n",
    "# 40: the desired dimension of the output\n",
    "# input_length: the sequence length is all the words except the last one (the one\n",
    "# we will predict)\n",
    "model.add(Bidirectional(LSTM(250))) # 250 is the average number of words in a song\n",
    "# So our cycle is the average length of a song\n",
    "# We used LSTM instead of simple RNN as simple RNN faces a vanishing gradient\n",
    "# problem, also, we need to remember the previous words, to predict the next words.\n",
    "\n",
    "model.add(Dropout(0.1)) # To overcome overfitting\n",
    "model.add(Dense(total_words, activation='softmax'))"
   ]
  },
  {
   "cell_type": "code",
   "execution_count": 13,
   "metadata": {
    "execution": {
     "iopub.execute_input": "2022-01-06T15:33:42.780066Z",
     "iopub.status.busy": "2022-01-06T15:33:42.779755Z",
     "iopub.status.idle": "2022-01-06T15:33:42.791335Z",
     "shell.execute_reply": "2022-01-06T15:33:42.790180Z",
     "shell.execute_reply.started": "2022-01-06T15:33:42.780032Z"
    }
   },
   "outputs": [
    {
     "name": "stdout",
     "output_type": "stream",
     "text": [
      "Model: \"sequential\"\n",
      "_________________________________________________________________\n",
      "Layer (type)                 Output Shape              Param #   \n",
      "=================================================================\n",
      "embedding (Embedding)        (None, 450, 40)           230440    \n",
      "_________________________________________________________________\n",
      "bidirectional (Bidirectional (None, 500)               582000    \n",
      "_________________________________________________________________\n",
      "dropout (Dropout)            (None, 500)               0         \n",
      "_________________________________________________________________\n",
      "dense (Dense)                (None, 5761)              2886261   \n",
      "=================================================================\n",
      "Total params: 3,698,701\n",
      "Trainable params: 3,698,701\n",
      "Non-trainable params: 0\n",
      "_________________________________________________________________\n"
     ]
    }
   ],
   "source": [
    "model.summary()"
   ]
  },
  {
   "cell_type": "code",
   "execution_count": 14,
   "metadata": {
    "execution": {
     "iopub.execute_input": "2022-01-06T15:33:42.793643Z",
     "iopub.status.busy": "2022-01-06T15:33:42.792941Z",
     "iopub.status.idle": "2022-01-06T15:33:42.799165Z",
     "shell.execute_reply": "2022-01-06T15:33:42.798277Z",
     "shell.execute_reply.started": "2022-01-06T15:33:42.793589Z"
    }
   },
   "outputs": [],
   "source": [
    "#Call backs\n",
    "#checkpoint = ModelCheckpoint(filepath=model_path, monitor=\"val_loss\", save_best_only=True) # dh el code el by-save el model\n",
    "\n",
    "reduce_lr = ReduceLROnPlateau(monitor=\"val_loss\", factor=0.1, patience=5) \n",
    "# el mfrood dh by5leeh asr3\n",
    "\n",
    "earlystop = EarlyStopping(monitor='loss', min_delta=0, patience=3, verbose=0, mode='auto') # To overcome overfitting\n",
    "# dh 3lshan yo2of abl ma y3ml overfitting, bs badeelo forsa 10 epochs\n",
    "\n",
    "#callback_list = [checkpoint, early_stopping, reduce_lr]\n",
    "callback_list = [earlystop, reduce_lr]"
   ]
  },
  {
   "cell_type": "code",
   "execution_count": 15,
   "metadata": {
    "execution": {
     "iopub.execute_input": "2022-01-06T15:33:42.801183Z",
     "iopub.status.busy": "2022-01-06T15:33:42.800600Z",
     "iopub.status.idle": "2022-01-06T15:33:42.819303Z",
     "shell.execute_reply": "2022-01-06T15:33:42.818226Z",
     "shell.execute_reply.started": "2022-01-06T15:33:42.801145Z"
    }
   },
   "outputs": [],
   "source": [
    "model.compile(loss='categorical_crossentropy', optimizer='adam', metrics=['accuracy'])"
   ]
  },
  {
   "cell_type": "code",
   "execution_count": 16,
   "metadata": {
    "execution": {
     "iopub.execute_input": "2022-01-06T15:33:42.821766Z",
     "iopub.status.busy": "2022-01-06T15:33:42.821162Z",
     "iopub.status.idle": "2022-01-06T17:18:36.327929Z",
     "shell.execute_reply": "2022-01-06T17:18:36.327258Z",
     "shell.execute_reply.started": "2022-01-06T15:33:42.821728Z"
    }
   },
   "outputs": [
    {
     "name": "stdout",
     "output_type": "stream",
     "text": [
      "Epoch 1/20\n",
      "3717/3717 [==============================] - 320s 85ms/step - loss: 6.3152 - accuracy: 0.0532\n",
      "Epoch 2/20\n",
      "3717/3717 [==============================] - 312s 84ms/step - loss: 5.1242 - accuracy: 0.1355\n",
      "Epoch 3/20\n",
      "3717/3717 [==============================] - 311s 84ms/step - loss: 4.3833 - accuracy: 0.2032\n",
      "Epoch 4/20\n",
      "3717/3717 [==============================] - 311s 84ms/step - loss: 3.7911 - accuracy: 0.2732\n",
      "Epoch 5/20\n",
      "3717/3717 [==============================] - 312s 84ms/step - loss: 3.3445 - accuracy: 0.3343\n",
      "Epoch 6/20\n",
      "3717/3717 [==============================] - 314s 84ms/step - loss: 2.9851 - accuracy: 0.3894\n",
      "Epoch 7/20\n",
      "3717/3717 [==============================] - 315s 85ms/step - loss: 2.6596 - accuracy: 0.4426\n",
      "Epoch 8/20\n",
      "3717/3717 [==============================] - 315s 85ms/step - loss: 2.4355 - accuracy: 0.4794\n",
      "Epoch 9/20\n",
      "3717/3717 [==============================] - 313s 84ms/step - loss: 2.2260 - accuracy: 0.5197\n",
      "Epoch 10/20\n",
      "3717/3717 [==============================] - 313s 84ms/step - loss: 2.0830 - accuracy: 0.5430\n",
      "Epoch 11/20\n",
      "3717/3717 [==============================] - 313s 84ms/step - loss: 1.9432 - accuracy: 0.5716\n",
      "Epoch 12/20\n",
      "3717/3717 [==============================] - 313s 84ms/step - loss: 1.8438 - accuracy: 0.5852\n",
      "Epoch 13/20\n",
      "3717/3717 [==============================] - 313s 84ms/step - loss: 1.7366 - accuracy: 0.6054\n",
      "Epoch 14/20\n",
      "3717/3717 [==============================] - 315s 85ms/step - loss: 1.6702 - accuracy: 0.6185\n",
      "Epoch 15/20\n",
      "3717/3717 [==============================] - 317s 85ms/step - loss: 1.5987 - accuracy: 0.6321\n",
      "Epoch 16/20\n",
      "3717/3717 [==============================] - 317s 85ms/step - loss: 1.5334 - accuracy: 0.6436\n",
      "Epoch 17/20\n",
      "3717/3717 [==============================] - 316s 85ms/step - loss: 1.4987 - accuracy: 0.6496\n",
      "Epoch 18/20\n",
      "3717/3717 [==============================] - 316s 85ms/step - loss: 1.4613 - accuracy: 0.6530\n",
      "Epoch 19/20\n",
      "3717/3717 [==============================] - 316s 85ms/step - loss: 1.4239 - accuracy: 0.6612\n",
      "Epoch 20/20\n",
      "3717/3717 [==============================] - 317s 85ms/step - loss: 1.4016 - accuracy: 0.6633\n"
     ]
    },
    {
     "data": {
      "text/plain": [
       "<tensorflow.python.keras.callbacks.History at 0x7fd3b1d3d510>"
      ]
     },
     "execution_count": 16,
     "metadata": {},
     "output_type": "execute_result"
    }
   ],
   "source": [
    "model.fit(X, y, epochs=20, callbacks=callback_list)"
   ]
  },
  {
   "cell_type": "code",
   "execution_count": 17,
   "metadata": {
    "execution": {
     "iopub.execute_input": "2022-01-06T17:18:36.331563Z",
     "iopub.status.busy": "2022-01-06T17:18:36.331316Z",
     "iopub.status.idle": "2022-01-06T17:18:36.499503Z",
     "shell.execute_reply": "2022-01-06T17:18:36.498577Z",
     "shell.execute_reply.started": "2022-01-06T17:18:36.331538Z"
    },
    "id": "SyF4nkKlOYLx"
   },
   "outputs": [
    {
     "data": {
      "image/png": "[encoded data removed]",
      "text/plain": [
       "<Figure size 432x288 with 1 Axes>"
      ]
     },
     "metadata": {
      "needs_background": "light"
     },
     "output_type": "display_data"
    },
    {
     "data": {
      "text/plain": [
       "<Figure size 432x288 with 0 Axes>"
      ]
     },
     "metadata": {},
     "output_type": "display_data"
    }
   ],
   "source": [
    "# plot the accuracy\n",
    "plt.plot(model.history.history['accuracy'], label='train acc')\n",
    "plt.legend()\n",
    "plt.show()\n",
    "plt.savefig('AccVal_acc')"
   ]
  },
  {
   "cell_type": "markdown",
   "metadata": {
    "id": "GE6yM8cNOYLy"
   },
   "source": [
    "# Generate new song lyrics"
   ]
  },
  {
   "cell_type": "code",
   "execution_count": 18,
   "metadata": {
    "execution": {
     "iopub.execute_input": "2022-01-06T17:18:36.501465Z",
     "iopub.status.busy": "2022-01-06T17:18:36.500899Z",
     "iopub.status.idle": "2022-01-06T17:18:36.508679Z",
     "shell.execute_reply": "2022-01-06T17:18:36.507750Z",
     "shell.execute_reply.started": "2022-01-06T17:18:36.501427Z"
    },
    "id": "Y1owAAB3OYLy"
   },
   "outputs": [],
   "source": [
    "# el input_text dh el text elly badeehlo, w bykamel 3leh el o8nya\n",
    "# next_words dyh 3adad el kalemat el hy3mlha prediction\n",
    "def complete_this_song(input_text, next_words):\n",
    "    for _ in range(next_words):\n",
    "        # for _ in... this is like a place holder, which upholds the syntax.\n",
    "        # We use it when we don't want to use the variable, so we leave it empty.\n",
    "        \n",
    "        # Doing the same things to the input as we did when training the model\n",
    "        token_list = tokenizer.texts_to_sequences([input_text])[0]\n",
    "        token_list = pad_sequences([token_list], maxlen=max_sequence_len-1, padding='pre')\n",
    "        predicted = model.predict_classes(token_list, verbose=0)\n",
    "        \n",
    "        output_word = \"\"\n",
    "        for word, index in tokenizer.word_index.items():\n",
    "            if index == predicted:\n",
    "                # Gets the word corresponding the the value predicted\n",
    "                # [Converting from numeric to string again]\n",
    "                output_word = word\n",
    "                break\n",
    "        input_text += \" \" + output_word\n",
    "    return input_text"
   ]
  },
  {
   "cell_type": "markdown",
   "metadata": {
    "id": "Khbbc5p8OYLz"
   },
   "source": [
    "Our function is ready so are you ready to generate your own lyrics"
   ]
  },
  {
   "cell_type": "code",
   "execution_count": 19,
   "metadata": {
    "execution": {
     "iopub.execute_input": "2022-01-06T17:18:36.510597Z",
     "iopub.status.busy": "2022-01-06T17:18:36.510045Z",
     "iopub.status.idle": "2022-01-06T17:18:38.844993Z",
     "shell.execute_reply": "2022-01-06T17:18:38.844168Z",
     "shell.execute_reply.started": "2022-01-06T17:18:36.510560Z"
    },
    "id": "Iv5wLwREOYL2"
   },
   "outputs": [
    {
     "name": "stderr",
     "output_type": "stream",
     "text": [
      "/opt/conda/lib/python3.7/site-packages/tensorflow/python/keras/engine/sequential.py:450: UserWarning: `model.predict_classes()` is deprecated and will be removed after 2021-01-01. Please use instead:* `np.argmax(model.predict(x), axis=-1)`,   if your model does multi-class classification   (e.g. if it uses a `softmax` last-layer activation).* `(model.predict(x) > 0.5).astype(\"int32\")`,   if your model does binary classification   (e.g. if it uses a `sigmoid` last-layer activation).\n",
      "  warnings.warn('`model.predict_classes()` is deprecated and '\n"
     ]
    },
    {
     "data": {
      "text/plain": [
       "'the sky is blue or as the king of the ages wild in the sky and the last blue skies above i love the stranger in the sky sparrow sparrow hear the earth love is here and the years will be our song i'"
      ]
     },
     "execution_count": 19,
     "metadata": {},
     "output_type": "execute_result"
    }
   ],
   "source": [
    "complete_this_song(\"the sky is blue\", 40)"
   ]
  },
  {
   "cell_type": "code",
   "execution_count": 20,
   "metadata": {
    "execution": {
     "iopub.execute_input": "2022-01-06T17:18:38.846741Z",
     "iopub.status.busy": "2022-01-06T17:18:38.846393Z",
     "iopub.status.idle": "2022-01-06T17:18:46.180981Z",
     "shell.execute_reply": "2022-01-06T17:18:46.180177Z",
     "shell.execute_reply.started": "2022-01-06T17:18:38.846704Z"
    },
    "id": "WQXpW_ULOYL3"
   },
   "outputs": [
    {
     "data": {
      "text/plain": [
       "\"This is the beginning of the man of the children they hear the moon they never kissed the doubt the music mountains the wide has got no care of the room of the hare maybellene why can't you be true you've started back doing the things you used to do the cadillac moved and he will be down or when he plays not a fast but we can dance my mind is gonna wait to be coming our way we walk along the way i wanna know gotta know i would be a tame and he keeps a man that i was so tied i got a feelin' in my body this will be our lucky day we'll be releasing all our sorrow leave it layin' along the way won't you lift your head up high and they're standing on a closing way to\""
      ]
     },
     "execution_count": 20,
     "metadata": {},
     "output_type": "execute_result"
    }
   ],
   "source": [
    "complete_this_song(\"This is the beginning\", 140)"
   ]
  },
  {
   "cell_type": "code",
   "execution_count": 21,
   "metadata": {
    "execution": {
     "iopub.execute_input": "2022-01-06T17:18:46.182941Z",
     "iopub.status.busy": "2022-01-06T17:18:46.182383Z",
     "iopub.status.idle": "2022-01-06T17:18:50.265838Z",
     "shell.execute_reply": "2022-01-06T17:18:50.265104Z",
     "shell.execute_reply.started": "2022-01-06T17:18:46.182903Z"
    },
    "id": "NsVPKaj6OYL4"
   },
   "outputs": [
    {
     "data": {
      "text/plain": [
       "\"I am missing you know that i was almost always true to you my love is true i know that i love you so i love you so darling my love is true true as love you're all the love i love you and i love you and i always will love me never tell me that your love is all of love will you know darling i'll be there to you always be mine darling i'll be mine i'll be blue i'll be\""
      ]
     },
     "execution_count": 21,
     "metadata": {},
     "output_type": "execute_result"
    }
   ],
   "source": [
    "complete_this_song(\"I am missing you\", 80)"
   ]
  },
  {
   "cell_type": "code",
   "execution_count": 22,
   "metadata": {
    "execution": {
     "iopub.execute_input": "2022-01-06T17:18:50.269552Z",
     "iopub.status.busy": "2022-01-06T17:18:50.269290Z",
     "iopub.status.idle": "2022-01-06T17:18:52.425734Z",
     "shell.execute_reply": "2022-01-06T17:18:52.424799Z",
     "shell.execute_reply.started": "2022-01-06T17:18:50.269525Z"
    }
   },
   "outputs": [
    {
     "data": {
      "text/plain": [
       "'I love you so i lie and i lose the door of you i know that i love you so how i have lost my own hand and the memory of your love and the one who knew i ever knew in the'"
      ]
     },
     "execution_count": 22,
     "metadata": {},
     "output_type": "execute_result"
    }
   ],
   "source": [
    "complete_this_song(\"I love you\", 40)"
   ]
  },
  {
   "cell_type": "code",
   "execution_count": null,
   "metadata": {},
   "outputs": [],
   "source": [
    "# save model\n",
    "from tensorflow.keras.models import load_model\n",
    "model.save('song_lyrics_generator.h5')"
   ]
  }
 ],
 "metadata": {
  "kernelspec": {
   "display_name": "Python 3 (ipykernel)",
   "language": "python",
   "name": "python3"
  },
  "language_info": {
   "codemirror_mode": {
    "name": "ipython",
    "version": 3
   },
   "file_extension": ".py",
   "mimetype": "text/x-python",
   "name": "python",
   "nbconvert_exporter": "python",
   "pygments_lexer": "ipython3",
   "version": "3.8.8"
  }
 },
 "nbformat": 4,
 "nbformat_minor": 4
}
